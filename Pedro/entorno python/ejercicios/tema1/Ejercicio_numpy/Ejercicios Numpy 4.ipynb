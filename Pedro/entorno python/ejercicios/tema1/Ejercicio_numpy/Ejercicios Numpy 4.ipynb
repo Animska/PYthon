{
 "cells": [
  {
   "cell_type": "markdown",
   "id": "96a48215",
   "metadata": {},
   "source": [
    "# Comparación Estructuras de control con NumPy\n",
    "\n",
    "Esta tanda de ejercicios trata de comparar la potencia de numpy para hacer muchas cosas en pocas líneas de código. \n",
    "\n",
    "El **objetivo** es hacer 2 versiones de cada ejercicio:\n",
    "\n",
    "+ Primero usando estructuras de control, es decir, hacer lo que se pide usando un bucle para recorrer el array, sin usar funciones o métodos de numpy (o lo menos posible).\n",
    "+ Posteriormente, hacer otra versión usando toda la potencia de numpy.\n",
    "\n",
    "\n",
    "El primer ejercicio se da hecho como ejemplo.\n",
    "\n",
    "\n",
    "## Para realizar estos ejercicios hay que ver antes el tema 1 hasta el final."
   ]
  },
  {
   "cell_type": "markdown",
   "id": "5d3ca191",
   "metadata": {},
   "source": [
    "# Datos\n",
    "\n",
    "Partimos de 4 ndarray:\n",
    "\n",
    "+ Notas de matemáticas (tipo entero)\n",
    "+ Notas de físicas (tipo entero)\n",
    "+ Nombres de alumnos.\n",
    "+ Array adicional de números reales."
   ]
  },
  {
   "cell_type": "code",
   "execution_count": 92,
   "id": "67582f23",
   "metadata": {},
   "outputs": [
    {
     "name": "stdout",
     "output_type": "stream",
     "text": [
      "[10  9 10  5  5  1  2  2  8  5]\n",
      "[ 0  9  5 10  5  0  7  0  5  5]\n"
     ]
    }
   ],
   "source": [
    "import numpy as np\n",
    "\n",
    "notas_mates = np.random.randint(0, 11, 10)\n",
    "notas_fisica = np.random.randint(0, 11, 10)\n",
    "alumnos = np.array([\"Juan\", \"Pedro\", \"Antonio\", \"Maria\", \"Pablo\", \"Carlos\", \"Lucia\", \"Marta\", \"Noelia\", \"Samuel\"])\n",
    "array_float = np.random.standard_normal(10)\n",
    "\n",
    "print(notas_mates)\n",
    "print(notas_fisica)\n"
   ]
  },
  {
   "cell_type": "markdown",
   "id": "9974c1f7",
   "metadata": {},
   "source": [
    "# 1. Obtener la suma de todas las notas de matemáticas \n",
    "\n",
    "Este se da hecho como ejemplo."
   ]
  },
  {
   "cell_type": "code",
   "execution_count": null,
   "id": "f6591ba8",
   "metadata": {},
   "outputs": [
    {
     "name": "stdout",
     "output_type": "stream",
     "text": [
      "49\n"
     ]
    }
   ],
   "source": [
    "import numpy as np\n",
    "notas_mates = np.random.randint(0, 11, 10)\n",
    "\n",
    "# Versión con estructuras de control\n",
    "suma = 0\n",
    "for elem in notas_mates:\n",
    "    suma += elem\n",
    "print(suma)"
   ]
  },
  {
   "cell_type": "code",
   "execution_count": null,
   "id": "6a838075",
   "metadata": {},
   "outputs": [
    {
     "name": "stdout",
     "output_type": "stream",
     "text": [
      "49\n"
     ]
    }
   ],
   "source": [
    "import numpy as np\n",
    "notas_mates = np.random.randint(0, 11, 10)\n",
    "\n",
    "# Versión numpy\n",
    "print(notas_mates.sum())"
   ]
  },
  {
   "cell_type": "markdown",
   "id": "7f620c5d",
   "metadata": {},
   "source": [
    "# Obtener la nota media de matemáticas"
   ]
  },
  {
   "cell_type": "code",
   "execution_count": null,
   "id": "79721602",
   "metadata": {},
   "outputs": [
    {
     "name": "stdout",
     "output_type": "stream",
     "text": [
      "4.1\n"
     ]
    }
   ],
   "source": [
    "import numpy as np\n",
    "notas_mates = np.random.randint(0, 11, 10)\n",
    "\n",
    "media=0\n",
    "for i in notas_mates:\n",
    "    media+=i\n",
    "\n",
    "media/=len(notas_mates)\n",
    "print(media)"
   ]
  },
  {
   "cell_type": "code",
   "execution_count": null,
   "id": "efe6ca4a",
   "metadata": {},
   "outputs": [
    {
     "name": "stdout",
     "output_type": "stream",
     "text": [
      "4.1\n"
     ]
    }
   ],
   "source": [
    "import numpy as np\n",
    "notas_mates = np.random.randint(0, 11, 10)\n",
    "\n",
    "print(notas_mates.mean())"
   ]
  },
  {
   "cell_type": "markdown",
   "id": "84fc6c72",
   "metadata": {},
   "source": [
    "# Obtener un array con los nombres de los alumnos que han aprobado matemáticas"
   ]
  },
  {
   "cell_type": "code",
   "execution_count": null,
   "id": "5d7dcfa6",
   "metadata": {},
   "outputs": [
    {
     "name": "stdout",
     "output_type": "stream",
     "text": [
      "[np.str_('Pedro'), np.str_('Antonio'), np.str_('Pablo'), np.str_('Carlos'), np.str_('Lucia')]\n",
      "['Pedro' 'Antonio' 'Pablo' 'Carlos' 'Lucia']\n"
     ]
    }
   ],
   "source": [
    "import numpy as np\n",
    "notas_mates = np.random.randint(0, 11, 10)\n",
    "alumnos = np.array([\"Juan\", \"Pedro\", \"Antonio\", \"Maria\", \"Pablo\", \"Carlos\", \"Lucia\", \"Marta\", \"Noelia\", \"Samuel\"])\n",
    "\n",
    "alumnos_mates=[]\n",
    "for index,value in enumerate(notas_mates):\n",
    "    if value>=5:\n",
    "        alumnos_mates.append(alumnos[index])\n",
    "array=np.array(alumnos_mates)\n",
    "print(array)"
   ]
  },
  {
   "cell_type": "code",
   "execution_count": null,
   "id": "4227942f",
   "metadata": {},
   "outputs": [
    {
     "name": "stdout",
     "output_type": "stream",
     "text": [
      "['Pedro' 'Antonio' 'Pablo' 'Carlos' 'Lucia']\n"
     ]
    }
   ],
   "source": [
    "import numpy as np\n",
    "notas_mates = np.random.randint(0, 11, 10)\n",
    "alumnos = np.array([\"Juan\", \"Pedro\", \"Antonio\", \"Maria\", \"Pablo\", \"Carlos\", \"Lucia\", \"Marta\", \"Noelia\", \"Samuel\"])\n",
    "\n",
    "print(alumnos[notas_mates >=5])"
   ]
  },
  {
   "cell_type": "markdown",
   "id": "229a5a6e",
   "metadata": {},
   "source": [
    "# Obtener un array con los nombres de aquellos alumnos con nota mayor a la nota media de mates"
   ]
  },
  {
   "cell_type": "code",
   "execution_count": null,
   "id": "36693fbd",
   "metadata": {},
   "outputs": [
    {
     "name": "stdout",
     "output_type": "stream",
     "text": [
      "4.1\n",
      "['Pedro' 'Antonio' 'Pablo' 'Carlos' 'Lucia']\n"
     ]
    }
   ],
   "source": [
    "import numpy as np\n",
    "notas_mates = np.random.randint(0, 11, 10)\n",
    "alumnos = np.array([\"Juan\", \"Pedro\", \"Antonio\", \"Maria\", \"Pablo\", \"Carlos\", \"Lucia\", \"Marta\", \"Noelia\", \"Samuel\"])\n",
    "\n",
    "alumnos_mates=[]\n",
    "def media(ndarray):\n",
    "    media=0\n",
    "    for i in ndarray:\n",
    "        media+=i\n",
    "    media/=len(ndarray)\n",
    "    return media\n",
    "\n",
    "for index,value in enumerate(notas_mates):\n",
    "    if value>media(notas_mates):\n",
    "        alumnos_mates.append(alumnos[index])\n",
    "array_mayor_media=np.array(alumnos_mates)\n",
    "print(media(notas_mates))\n",
    "print(array_mayor_media)"
   ]
  },
  {
   "cell_type": "code",
   "execution_count": null,
   "id": "8fd95645",
   "metadata": {},
   "outputs": [
    {
     "name": "stdout",
     "output_type": "stream",
     "text": [
      "4.1\n",
      "['Pedro' 'Antonio' 'Pablo' 'Carlos' 'Lucia']\n"
     ]
    }
   ],
   "source": [
    "import numpy as np\n",
    "notas_mates = np.random.randint(0, 11, 10)\n",
    "\n",
    "print(np.mean(notas_mates))\n",
    "print(alumnos[notas_mates > np.mean(notas_mates)])"
   ]
  },
  {
   "cell_type": "markdown",
   "id": "572bea13",
   "metadata": {},
   "source": [
    "# Sumar 1 punto a aquellos alumnos que han suspendido mates (nota < 5)"
   ]
  },
  {
   "cell_type": "code",
   "execution_count": null,
   "id": "c36f19cc",
   "metadata": {},
   "outputs": [
    {
     "name": "stdout",
     "output_type": "stream",
     "text": [
      "[2 7 7 2 5 7 8 2 2 2]\n",
      "[3 7 7 3 5 7 8 3 3 3]\n"
     ]
    }
   ],
   "source": [
    "import numpy as np\n",
    "notas_mates = np.random.randint(0, 11, 10)\n",
    "\n",
    "print(notas_mates)\n",
    "\n",
    "for index,value in enumerate(notas_mates):\n",
    "    if value<5:\n",
    "        notas_mates[index]+=1\n",
    "\n",
    "print(notas_mates)"
   ]
  },
  {
   "cell_type": "code",
   "execution_count": null,
   "id": "c5d1f5fb",
   "metadata": {},
   "outputs": [
    {
     "name": "stdout",
     "output_type": "stream",
     "text": [
      "[ 9  5  4  0  1  8  9  8  7 10]\n",
      "[ 9  5  5  1  2  8  9  8  7 10]\n"
     ]
    }
   ],
   "source": [
    "import numpy as np\n",
    "notas_mates = np.random.randint(0, 11, 10)\n",
    "\n",
    "print(notas_mates)\n",
    "notas_mates[notas_mates<5]+=1\n",
    "print(notas_mates)"
   ]
  },
  {
   "cell_type": "markdown",
   "id": "36828f3c",
   "metadata": {},
   "source": [
    "# Sumar 2 punto a aquellos alumnos que han suspendido mates (nota < 5) y sumar 1 punto a los que han aprobado"
   ]
  },
  {
   "cell_type": "code",
   "execution_count": null,
   "id": "a035d4fc",
   "metadata": {},
   "outputs": [
    {
     "name": "stdout",
     "output_type": "stream",
     "text": [
      "[4 7 7 4 5 7 8 4 4 4]\n",
      "[6 8 8 6 6 8 9 6 6 6]\n"
     ]
    }
   ],
   "source": [
    "import numpy as np\n",
    "notas_mates = np.random.randint(0, 11, 10)\n",
    "\n",
    "print(notas_mates)\n",
    "for index,value in enumerate(notas_mates):\n",
    "    if value<5:\n",
    "        notas_mates[index]+=2\n",
    "    elif value>=5:\n",
    "        notas_mates[index]+=1\n",
    "print(notas_mates)"
   ]
  },
  {
   "cell_type": "code",
   "execution_count": null,
   "id": "f8fe5c3d",
   "metadata": {},
   "outputs": [
    {
     "name": "stdout",
     "output_type": "stream",
     "text": [
      "[ 9  5  5  1  2  8  9  8  7 10]\n",
      "[10  6  6  3  4  9 10  9  8 11]\n"
     ]
    }
   ],
   "source": [
    "import numpy as np\n",
    "notas_mates = np.random.randint(0, 11, 10)\n",
    "\n",
    "print(notas_mates)\n",
    "notas_mates[notas_mates<5]+=2\n",
    "notas_mates[notas_mates>=5]+=1\n",
    "print(notas_mates)"
   ]
  },
  {
   "cell_type": "markdown",
   "id": "f555f05d",
   "metadata": {},
   "source": [
    "# Generar un ndarray a partir de array_float\n",
    "# Si el número es negativo, convertirlo a positivo"
   ]
  },
  {
   "cell_type": "code",
   "execution_count": null,
   "id": "f5b300bf",
   "metadata": {},
   "outputs": [
    {
     "name": "stdout",
     "output_type": "stream",
     "text": [
      "[ 0.69922601 -2.73681973  0.23314428 -1.25511496 -1.62251253 -0.05145463\n",
      " -1.09917332  0.31007899 -0.31174042  0.50269051]\n",
      "[0.69922601 2.73681973 0.23314428 1.25511496 1.62251253 0.05145463\n",
      " 1.09917332 0.31007899 0.31174042 0.50269051]\n"
     ]
    }
   ],
   "source": [
    "import numpy as np\n",
    "array_float = np.random.standard_normal(10)\n",
    "\n",
    "print(array_float)\n",
    "for index,value in enumerate(array_float):\n",
    "    if value<0:\n",
    "        array_float[index]*=-1\n",
    "array2=np.array(array_float)\n",
    "print(array2)"
   ]
  },
  {
   "cell_type": "code",
   "execution_count": null,
   "id": "42cd49a9",
   "metadata": {},
   "outputs": [
    {
     "name": "stdout",
     "output_type": "stream",
     "text": [
      "[-0.2779424  -0.48260912  1.20092046  0.36890141  0.02987178  0.15387286\n",
      " -0.0696227   0.79457613 -0.51985582  1.12655135]\n",
      "[0.2779424  0.48260912 1.20092046 0.36890141 0.02987178 0.15387286\n",
      " 0.0696227  0.79457613 0.51985582 1.12655135]\n"
     ]
    }
   ],
   "source": [
    "import numpy as np\n",
    "array_float = np.random.standard_normal(10)\n",
    "\n",
    "print(array_float)\n",
    "array2=np.abs(array_float)\n",
    "print(array2)"
   ]
  },
  {
   "cell_type": "markdown",
   "id": "8813b3fc",
   "metadata": {},
   "source": [
    "# Poner un 10  en mates al alumno Pedro"
   ]
  },
  {
   "cell_type": "code",
   "execution_count": null,
   "id": "cc0a8a15",
   "metadata": {},
   "outputs": [
    {
     "name": "stdout",
     "output_type": "stream",
     "text": [
      "['Juan' 'Pedro' 'Antonio' 'Maria' 'Pablo' 'Carlos' 'Lucia' 'Marta'\n",
      " 'Noelia' 'Samuel']\n",
      "[ 0 10  7  5  7  7 10  6  5  4]\n"
     ]
    }
   ],
   "source": [
    "import numpy as np\n",
    "notas_mates = np.random.randint(0, 11, 10)\n",
    "alumnos = np.array([\"Juan\", \"Pedro\", \"Antonio\", \"Maria\", \"Pablo\", \"Carlos\", \"Lucia\", \"Marta\", \"Noelia\", \"Samuel\"])\n",
    "\n",
    "for index,value in enumerate(alumnos):\n",
    "    if value==\"Pedro\":\n",
    "        notas_mates[index]=10\n",
    "\n",
    "print(alumnos)\n",
    "print(notas_mates)"
   ]
  },
  {
   "cell_type": "code",
   "execution_count": null,
   "id": "4935c000",
   "metadata": {},
   "outputs": [
    {
     "name": "stdout",
     "output_type": "stream",
     "text": [
      "['Juan' 'Pedro' 'Antonio' 'Maria' 'Pablo' 'Carlos' 'Lucia' 'Marta'\n",
      " 'Noelia' 'Samuel']\n",
      "[10  5  8  5  3  8  3 10  8  9]\n",
      "[10 10  8  5  3  8  3 10  8  9]\n"
     ]
    }
   ],
   "source": [
    "import numpy as np\n",
    "notas_mates = np.random.randint(0, 11, 10)\n",
    "\n",
    "print(alumnos)\n",
    "print(notas_mates)\n",
    "notas_mates[alumnos==\"Pedro\"]=10\n",
    "print(notas_mates)"
   ]
  },
  {
   "cell_type": "markdown",
   "id": "da35e408",
   "metadata": {},
   "source": [
    "# Elevar al cuadrado todas las notas de matemáticas"
   ]
  },
  {
   "cell_type": "code",
   "execution_count": null,
   "id": "1d452d77",
   "metadata": {},
   "outputs": [
    {
     "name": "stdout",
     "output_type": "stream",
     "text": [
      "[10 10  8  5  9  8  9 10  8  9]\n",
      "[100 100  64  25  81  64  81 100  64  81]\n"
     ]
    }
   ],
   "source": [
    "import numpy as np\n",
    "notas_mates = np.random.randint(0, 11, 10)\n",
    "\n",
    "print(notas_mates)\n",
    "for index,value in enumerate(notas_mates):\n",
    "        notas_mates[index]**=2\n",
    "print(notas_mates)"
   ]
  },
  {
   "cell_type": "code",
   "execution_count": null,
   "id": "0ac9457c",
   "metadata": {},
   "outputs": [
    {
     "name": "stdout",
     "output_type": "stream",
     "text": [
      "[10000  2401  6561     0    81     0   256    81  2401 10000]\n",
      "[100  49  81   0   9   0  16   9  49 100]\n"
     ]
    }
   ],
   "source": [
    "import numpy as np\n",
    "notas_mates = np.random.randint(0, 11, 10)\n",
    "\n",
    "print(notas_mates)\n",
    "print(np.square(notas_mates))"
   ]
  },
  {
   "cell_type": "markdown",
   "id": "2edbd49c",
   "metadata": {},
   "source": [
    "# Elevar al cuadrado las notas menores a 5 de matemáticas"
   ]
  },
  {
   "cell_type": "code",
   "execution_count": null,
   "id": "582b7551",
   "metadata": {},
   "outputs": [],
   "source": [
    "import numpy as np\n",
    "notas_mates = np.random.randint(0, 11, 10)\n",
    "\n",
    "print(notas_mates)\n",
    "for index,value in enumerate(notas_mates):\n",
    "        if(value<5):\n",
    "            notas_mates[index]**=2\n",
    "print(notas_mates)"
   ]
  },
  {
   "cell_type": "code",
   "execution_count": null,
   "id": "4bfa21dc",
   "metadata": {},
   "outputs": [
    {
     "name": "stdout",
     "output_type": "stream",
     "text": [
      "[ 0  3  7 10  4  8  5  5  7  6]\n",
      "[ 0  9  7 10 16  8  5  5  7  6]\n"
     ]
    }
   ],
   "source": [
    "import numpy as np\n",
    "notas_mates = np.random.randint(0, 11, 10)\n",
    "\n",
    "print(notas_mates)\n",
    "notas_mates[notas_mates<5]**=2\n",
    "print(notas_mates)"
   ]
  },
  {
   "cell_type": "markdown",
   "id": "2d671f06",
   "metadata": {},
   "source": [
    "# Generar un ndarray que guarde el signo del array array_float. \n",
    "\n",
    "El signo se marca con lo siguiente:\n",
    "+ -1 Si el signo es negativo\n",
    "+ 0 si el número es 0\n",
    "+ 1 si el signo es positivo"
   ]
  },
  {
   "cell_type": "code",
   "execution_count": 94,
   "id": "c77745d3",
   "metadata": {},
   "outputs": [
    {
     "name": "stdout",
     "output_type": "stream",
     "text": [
      "[-0.99130716  1.44482492  0.16637486 -1.66926333 -1.21234331 -0.87681116\n",
      "  1.6987811   1.90296718  0.18737641  1.08222498]\n",
      "[-1, 1, 1, -1, -1, -1, 1, 1, 1, 1]\n"
     ]
    }
   ],
   "source": [
    "import numpy as np\n",
    "array_float = np.random.standard_normal(10)\n",
    "\n",
    "array_signo=[]\n",
    "\n",
    "for i in array_float:\n",
    "    if i==0:\n",
    "        array_signo.append(0)\n",
    "    elif i<0:\n",
    "        array_signo.append(-1)\n",
    "    else:\n",
    "        array_signo.append(1)\n",
    "\n",
    "print(array_float)\n",
    "print(array_signo)"
   ]
  },
  {
   "cell_type": "code",
   "execution_count": 95,
   "id": "d3a3e6fb",
   "metadata": {},
   "outputs": [
    {
     "name": "stdout",
     "output_type": "stream",
     "text": [
      "[ 1.4812868  -0.30281036 -0.32768641  1.89181985 -0.03590304 -0.2989522\n",
      " -1.41258213 -0.16119457 -1.03618069  0.65426864]\n",
      "[ 1. -1. -1.  1. -1. -1. -1. -1. -1.  1.]\n"
     ]
    }
   ],
   "source": [
    "import numpy as np\n",
    "array_float = np.random.standard_normal(10)\n",
    "\n",
    "print(array_float)\n",
    "print(np.sign(array_float))"
   ]
  },
  {
   "cell_type": "markdown",
   "id": "b6422173",
   "metadata": {},
   "source": [
    "# Generar un ndarray que guarde la nota mínima de cada alumno entre mates y física"
   ]
  },
  {
   "cell_type": "code",
   "execution_count": 98,
   "id": "c3de7975",
   "metadata": {},
   "outputs": [
    {
     "name": "stdout",
     "output_type": "stream",
     "text": [
      "[ 9  4  9  4  3  8  8  2 10  5]\n",
      "[ 8  2  9  4  5 10  3  6  4  4]\n",
      "[8 2 9 4 3 8 3 2 4 4]\n"
     ]
    }
   ],
   "source": [
    "import numpy as np\n",
    "notas_mates = np.random.randint(0, 11, 10)\n",
    "notas_fisica = np.random.randint(0, 11, 10)\n",
    "alumnos = np.array([\"Juan\", \"Pedro\", \"Antonio\", \"Maria\", \"Pablo\", \"Carlos\", \"Lucia\", \"Marta\", \"Noelia\", \"Samuel\"])\n",
    "\n",
    "notas_minimas=[]\n",
    "for index,_ in enumerate(alumnos):\n",
    "    nota_mates=notas_mates[index]\n",
    "    nota_fisica=notas_fisica[index]\n",
    "\n",
    "    if nota_mates<=nota_fisica:\n",
    "        notas_minimas.append(nota_mates)\n",
    "    else: \n",
    "        notas_minimas.append(nota_fisica)\n",
    "\n",
    "print(notas_mates)\n",
    "print(notas_fisica)\n",
    "print(np.array(notas_minimas))"
   ]
  },
  {
   "cell_type": "code",
   "execution_count": null,
   "id": "7984a2ef",
   "metadata": {},
   "outputs": [
    {
     "name": "stdout",
     "output_type": "stream",
     "text": [
      "[10  2  7  2  8  7  6  6  2  9]\n",
      "[ 6  9  7  0  4 10  6  1  2 10]\n",
      "[6 2 7 0 4 7 6 1 2 9]\n",
      "[6 2 7 0 4 7 6 1 2 9]\n"
     ]
    }
   ],
   "source": [
    "import numpy as np\n",
    "notas_mates = np.random.randint(0, 11, 10)\n",
    "notas_fisica = np.random.randint(0, 11, 10)\n",
    "alumnos = np.array([\"Juan\", \"Pedro\", \"Antonio\", \"Maria\", \"Pablo\", \"Carlos\", \"Lucia\", \"Marta\", \"Noelia\", \"Samuel\"])\n",
    "\n",
    "print(notas_mates)\n",
    "print(notas_fisica)\n",
    "print(np.fmin(notas_mates, notas_fisica))\n",
    "#print(np.minimum(notas_mates, notas_fisica))"
   ]
  },
  {
   "cell_type": "markdown",
   "id": "f230f770",
   "metadata": {},
   "source": [
    "# Comprobar si alguien tiene un 10 matemáticas"
   ]
  },
  {
   "cell_type": "code",
   "execution_count": null,
   "id": "0aa577f7",
   "metadata": {},
   "outputs": [],
   "source": [
    "import numpy as np\n"
   ]
  },
  {
   "cell_type": "code",
   "execution_count": null,
   "id": "a029166d",
   "metadata": {},
   "outputs": [],
   "source": [
    "import numpy as np\n"
   ]
  },
  {
   "cell_type": "markdown",
   "id": "fe975b94",
   "metadata": {},
   "source": [
    "# Comprobar si todos han aprobado física"
   ]
  },
  {
   "cell_type": "code",
   "execution_count": null,
   "id": "c9426733",
   "metadata": {},
   "outputs": [],
   "source": [
    "import numpy as np\n"
   ]
  },
  {
   "cell_type": "code",
   "execution_count": null,
   "id": "36733e80",
   "metadata": {},
   "outputs": [],
   "source": [
    "import numpy as np\n"
   ]
  },
  {
   "cell_type": "markdown",
   "id": "2c7df80a",
   "metadata": {},
   "source": [
    "# Generar un array de nombres de quienes han aprobado mates y física"
   ]
  },
  {
   "cell_type": "code",
   "execution_count": null,
   "id": "11b1e15d",
   "metadata": {},
   "outputs": [],
   "source": [
    "import numpy as np\n"
   ]
  },
  {
   "cell_type": "code",
   "execution_count": null,
   "id": "495fa077",
   "metadata": {},
   "outputs": [],
   "source": [
    "import numpy as np\n"
   ]
  },
  {
   "cell_type": "markdown",
   "id": "399adfc1",
   "metadata": {},
   "source": [
    "# Generar un array de nombres de quien ha aprobado mates pero no física"
   ]
  },
  {
   "cell_type": "code",
   "execution_count": null,
   "id": "69d72012",
   "metadata": {},
   "outputs": [],
   "source": [
    "import numpy as np\n"
   ]
  },
  {
   "cell_type": "code",
   "execution_count": null,
   "id": "307e71af",
   "metadata": {},
   "outputs": [],
   "source": [
    "import numpy as np\n"
   ]
  }
 ],
 "metadata": {
  "kernelspec": {
   "display_name": "envirtual (3.12.3)",
   "language": "python",
   "name": "python3"
  },
  "language_info": {
   "codemirror_mode": {
    "name": "ipython",
    "version": 3
   },
   "file_extension": ".py",
   "mimetype": "text/x-python",
   "name": "python",
   "nbconvert_exporter": "python",
   "pygments_lexer": "ipython3",
   "version": "3.12.3"
  }
 },
 "nbformat": 4,
 "nbformat_minor": 5
}
