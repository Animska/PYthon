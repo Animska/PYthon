{
 "cells": [
  {
   "cell_type": "markdown",
   "id": "8f0390a3",
   "metadata": {},
   "source": [
    "# Ejercicio 1\n",
    "\n",
    "Obtén los atributos del ndarray de numpy, muéstralos por pantalla y muestra también su contenido elemento a elemento mediante un for"
   ]
  },
  {
   "cell_type": "code",
   "execution_count": null,
   "id": "a7ad8c5c",
   "metadata": {},
   "outputs": [],
   "source": [
    "import numpy as np\n",
    "\n",
    "# Lista para crear el array a partir de ella\n",
    "lista = [4.5, 7.36, 7., 0.56]\n",
    "\n",
    "# Creamos el array mediante la estructura lista\n",
    "mi_array = np.array(lista)\n",
    "\n",
    "#Sigue a partir de aquí\n",
    "print(f\"Dimensiones: {mi_array.ndim}\")\n",
    "print(f\"Tamaño: {mi_array.size}\")\n",
    "print(f\"Shape: {mi_array.shape}\")\n",
    "print(f\"Tipo: {mi_array.dtype}\")\n",
    "\n",
    "for i in mi_array:\n",
    "    print(i)"
   ]
  },
  {
   "cell_type": "markdown",
   "id": "a03a9d67",
   "metadata": {},
   "source": [
    "# Ejercicio 2\n",
    "\n",
    "1. Crear una función llamada “inicializar_array” que reciba por parámetro un ndarray y retorne el array modificado con valores introducidos por teclado por el usuario usando un for.\n",
    "\n",
    "2. Una vez tenéis la función, crear un array del tamaño que sea e invocar a la función anterior, guardando el return en una nueva variable.\n",
    "\n",
    "3. Comprobar si ambos arrays tienen los mismos valores y son el mismo objeto."
   ]
  },
  {
   "cell_type": "code",
   "execution_count": null,
   "id": "b6c567c1",
   "metadata": {},
   "outputs": [
    {
     "name": "stdout",
     "output_type": "stream",
     "text": [
      "[ 1  2  3  4  6  8 10]\n",
      "int64\n",
      "[0 0 0 0 0 0 0]\n"
     ]
    }
   ],
   "source": [
    "import numpy as np\n",
    "\n",
    "def inicializar_array(ndarray):\n",
    "    for index,_ in enumerate(ndarray):\n",
    "        valor=int(input(\"introduce un numero: \"))\n",
    "        ndarray[index]=valor\n",
    "    return ndarray\n",
    "\n",
    "array=np.array([1,2,3,4,6,8,10])\n",
    "print(array)\n",
    "print(array.dtype)\n",
    "array_mod=inicializar_array(array)\n",
    "print(array_mod)\n",
    "print(array.dtype)\n"
   ]
  },
  {
   "cell_type": "markdown",
   "id": "51bc920d",
   "metadata": {},
   "source": [
    "# Ejercicio 3\n",
    "\n",
    "Crear 3 funciones, “media”, “máximo” y “mínimo”, que reciban un ndarray de valores numéricos y devuelva la media aritmética, el valor máximo y el valor mínimo respectivamente. Realizar el cálculo manualmente recorriendo el array con un for en lugar de usar las funciones predefinidas."
   ]
  },
  {
   "cell_type": "code",
   "execution_count": null,
   "id": "667e0e30",
   "metadata": {},
   "outputs": [
    {
     "name": "stdout",
     "output_type": "stream",
     "text": [
      "3.0\n",
      "5\n",
      "1\n"
     ]
    }
   ],
   "source": [
    "import numpy as np\n",
    "\n",
    "def media(ndarray):\n",
    "    media=0\n",
    "    for i in ndarray:\n",
    "        media+=i\n",
    "    media/=len(ndarray)\n",
    "    return media\n",
    "\n",
    "def minimo(ndarray):\n",
    "    min=ndarray[0]\n",
    "    for i in ndarray:\n",
    "        if i<min:\n",
    "            min=i\n",
    "    return min\n",
    "\n",
    "def maximo(ndarray):\n",
    "    max=ndarray[0]\n",
    "    for i in ndarray:\n",
    "        if i>max:\n",
    "            max=i\n",
    "    return max\n",
    "    \n",
    "array=np.array([1,2,3,4,5])\n",
    "print(media(array))\n",
    "print(maximo(array))\n",
    "print(minimo(array))"
   ]
  },
  {
   "cell_type": "markdown",
   "id": "0dfb3c79",
   "metadata": {},
   "source": [
    "# Ejercicio 4\n",
    "\n",
    "Crear la función “encontrar” (usando for) que busque un valor dentro de un ndarray.\n",
    "\n",
    "1. Parámetros: recibe dos parámetros, un array numérico y un valor. \n",
    "2. Retorno: \n",
    "    * Si valor se encuentra en el array, devolver el índice (primera aparición)\n",
    "    * Si el valor no se encuentra en el array, devolver None.\n",
    "3. Invocar a la función con cualquier array y valor para testear su funcionamiento en ambos casos. "
   ]
  },
  {
   "cell_type": "code",
   "execution_count": null,
   "id": "b5b63b70",
   "metadata": {},
   "outputs": [
    {
     "name": "stdout",
     "output_type": "stream",
     "text": [
      "None\n"
     ]
    }
   ],
   "source": [
    "import numpy as np\n",
    "\n",
    "def encontrar(array,valor):\n",
    "    for indice,num in enumerate(array):\n",
    "        if num==valor:\n",
    "            return indice\n",
    "        #no he puesto else por que retorna None si no encuentra nada\n",
    "        \n",
    "    \n",
    "array=np.array([1,2,3,4,5])\n",
    "valor=7\n",
    "\n",
    "print(encontrar(array,valor))"
   ]
  }
 ],
 "metadata": {
  "kernelspec": {
   "display_name": "envirtual (3.12.3)",
   "language": "python",
   "name": "python3"
  },
  "language_info": {
   "codemirror_mode": {
    "name": "ipython",
    "version": 3
   },
   "file_extension": ".py",
   "mimetype": "text/x-python",
   "name": "python",
   "nbconvert_exporter": "python",
   "pygments_lexer": "ipython3",
   "version": "3.12.3"
  }
 },
 "nbformat": 4,
 "nbformat_minor": 5
}
