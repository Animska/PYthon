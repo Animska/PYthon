{
 "cells": [
  {
   "cell_type": "markdown",
   "id": "7e58ceb8",
   "metadata": {},
   "source": [
    "# Completa cada celda de código según el comentario.\n",
    "\n",
    "No es necesario realizar funciones.\n",
    "\n",
    "Realiza cada operación teniendo en cuenta todo el potencial de numpy y sus métodos."
   ]
  },
  {
   "cell_type": "code",
   "execution_count": 2,
   "id": "dbf2c034",
   "metadata": {},
   "outputs": [],
   "source": [
    "import numpy as np\n",
    "array1 = np.array([2, 5, 4, 2, 49, 34, 59, 21, 45, 6, 105])"
   ]
  },
  {
   "cell_type": "code",
   "execution_count": 2,
   "id": "109ad5d4",
   "metadata": {},
   "outputs": [
    {
     "name": "stdout",
     "output_type": "stream",
     "text": [
      "Dimensiones: 1\n",
      "Tipo: int64\n",
      "Tamaño: 11\n",
      "Shape: (11,)\n"
     ]
    }
   ],
   "source": [
    "# Muestra los atributos de array1 (dimensiones, tipo, tamaño, tamaño por dimensión o shape)\n",
    "import numpy as np\n",
    "array1 = np.array([2, 5, 4, 2, 49, 34, 59, 21, 45, 6, 105])\n",
    "\n",
    "print(f\"Dimensiones: {array1.ndim}\")\n",
    "print(f\"Tipo: {array1.dtype}\")\n",
    "print(f\"Tamaño: {array1.size}\")\n",
    "print(f\"Shape: {array1.shape}\")\n"
   ]
  },
  {
   "cell_type": "code",
   "execution_count": null,
   "id": "5963ee6e",
   "metadata": {},
   "outputs": [
    {
     "name": "stdout",
     "output_type": "stream",
     "text": [
      "[  2   5   4   2  49  34  59  21  45   6 105]\n",
      "[1 1 1 1 1 1 1 1 1 1 1]\n"
     ]
    }
   ],
   "source": [
    "# Crea un array2 del mismo tamaño que array1 con todos a 1\n",
    "import numpy as np\n",
    "array1 = np.array([2, 5, 4, 2, 49, 34, 59, 21, 45, 6, 105])\n",
    "\n",
    "array2=np.ones_like(array1)\n",
    "print(array1)\n",
    "print(array2)\n"
   ]
  },
  {
   "cell_type": "code",
   "execution_count": null,
   "id": "f992b8a7",
   "metadata": {},
   "outputs": [
    {
     "name": "stdout",
     "output_type": "stream",
     "text": [
      "[  3   6   5   3  50  35  60  22  46   7 106]\n"
     ]
    }
   ],
   "source": [
    "# Suma ambos arrays de forma vectorizada y guarda el resultado en array3\n",
    "import numpy as np\n",
    "array1 = np.array([2, 5, 4, 2, 49, 34, 59, 21, 45, 6, 105])\n",
    "\n",
    "array2=np.ones_like(array1)\n",
    "array3=array1+array2\n",
    "print(array3)"
   ]
  },
  {
   "cell_type": "code",
   "execution_count": null,
   "id": "472ff9a1",
   "metadata": {},
   "outputs": [
    {
     "name": "stdout",
     "output_type": "stream",
     "text": [
      "[False False False False  True  True  True False  True False  True]\n"
     ]
    }
   ],
   "source": [
    "# Genera un array booleano (array_bool) que indique que posiciones de array1 son mayores a 30. \n",
    "import numpy as np\n",
    "array1 = np.array([2, 5, 4, 2, 49, 34, 59, 21, 45, 6, 105])\n",
    "\n",
    "array_bool=array1>30\n",
    "# Imprime array_bool para comprobar \n",
    "print(array_bool)"
   ]
  },
  {
   "cell_type": "code",
   "execution_count": null,
   "id": "c9a400e7",
   "metadata": {},
   "outputs": [
    {
     "name": "stdout",
     "output_type": "stream",
     "text": [
      "[ 49  59  45 105]\n"
     ]
    }
   ],
   "source": [
    "# A partir de array_bool, muestra por pantalla los valores que cumplen la condición (>40)\n",
    "import numpy as np\n",
    "array1 = np.array([2, 5, 4, 2, 49, 34, 59, 21, 45, 6, 105])\n",
    "\n",
    "array_bool=array1>40\n",
    "print(array1[array_bool])"
   ]
  },
  {
   "cell_type": "code",
   "execution_count": null,
   "id": "886ccff0",
   "metadata": {},
   "outputs": [
    {
     "name": "stdout",
     "output_type": "stream",
     "text": [
      "False\n"
     ]
    }
   ],
   "source": [
    "# Comprueba (imprime 1 True o False) si existe algún valor múltiplo de 7 en array1\n",
    "import numpy as np\n",
    "array1 = np.array([2, 5, 4, 2, 48, 34, 59, 22, 45, 6, 107])\n",
    "\n",
    "print(np.any(array1%7==0))"
   ]
  },
  {
   "cell_type": "code",
   "execution_count": null,
   "id": "241514af",
   "metadata": {},
   "outputs": [
    {
     "name": "stdout",
     "output_type": "stream",
     "text": [
      "[  2   7  14   2  49  34  21   6 105]\n"
     ]
    }
   ],
   "source": [
    "# Devuelve un array con todos los números menores a 40 o múltiplo de 7\n",
    "import numpy as np\n",
    "array1 = np.array([2, 7, 14, 2, 49, 34, 59, 21, 45, 6, 105])\n",
    "\n",
    "condicion = (array1<40) | (array1%7==0)\n",
    "array2=array1[condicion]\n",
    "print(array2)"
   ]
  },
  {
   "cell_type": "code",
   "execution_count": null,
   "id": "51fc8afc",
   "metadata": {},
   "outputs": [
    {
     "name": "stdout",
     "output_type": "stream",
     "text": [
      "[21]\n"
     ]
    }
   ],
   "source": [
    "# Devuelve un array con todos los números menores a 40 que sean múltiplo de 7\n",
    "import numpy as np\n",
    "array1 = np.array([2, 7, 14, 2, 49, 34, 59, 21, 45, 6, 105])\n",
    "\n",
    "condicion = (array1<40) & (array1%7==0)\n",
    "array2=array1[condicion]\n",
    "print(array2)"
   ]
  },
  {
   "cell_type": "code",
   "execution_count": null,
   "id": "ce0a2866",
   "metadata": {},
   "outputs": [
    {
     "name": "stdout",
     "output_type": "stream",
     "text": [
      "[  6  15  12   6 147 102 177  63 135  18 315]\n"
     ]
    }
   ],
   "source": [
    "# Multiplica y muestra todos los valores de array1\n",
    "import numpy as np\n",
    "array1 = np.array([2, 5, 4, 2, 49, 34, 59, 21, 45, 6, 105])\n",
    "\n",
    "print(array1*3)"
   ]
  },
  {
   "cell_type": "markdown",
   "id": "8a54c18b",
   "metadata": {},
   "source": [
    "---\n",
    "# Notas y alumnos\n",
    "\n",
    "La celda inferior contiene los datos **\"notas\"** y **\"alumnos\"** para realizar las siguientes."
   ]
  },
  {
   "cell_type": "code",
   "execution_count": 34,
   "id": "3042341b",
   "metadata": {},
   "outputs": [
    {
     "name": "stdout",
     "output_type": "stream",
     "text": [
      "[8 5 4 6 8 7 9 9 3 5 7 7 3 4 8]\n",
      "['Pedro' 'Juan' 'Maria' 'Alfonso' 'Mario' 'Juana' 'Antonio' 'Marco'\n",
      " 'Julia' 'Noelia' 'Alvaro' 'Natalia' 'Jose' 'Carlos' 'Diego']\n"
     ]
    }
   ],
   "source": [
    "# Array notas\n",
    "notas = np.array([8, 5, 4, 6, 8, 7, 9, 9, 3, 5, 7, 7, 3, 4, 8])\n",
    "print(notas)\n",
    "\n",
    "# Array alumnos\n",
    "alumnos = np.array([\"Pedro\", \"Juan\", \"Maria\", \"Alfonso\", \"Mario\", \"Juana\", \"Antonio\", \"Marco\", \n",
    "                    \"Julia\", \"Noelia\", \"Alvaro\", \"Natalia\", \"Jose\", \"Carlos\", \"Diego\"])\n",
    "print(alumnos)"
   ]
  },
  {
   "cell_type": "code",
   "execution_count": 35,
   "id": "6a01dfc4",
   "metadata": {},
   "outputs": [
    {
     "name": "stdout",
     "output_type": "stream",
     "text": [
      "6.2\n",
      "7.0\n"
     ]
    }
   ],
   "source": [
    "# Muestra el valor medio y mediano de notas\n",
    "import numpy as np\n",
    "notas = np.array([8, 5, 4, 6, 8, 7, 9, 9, 3, 5, 7, 7, 3, 4, 8])\n",
    "# Array alumnos\n",
    "alumnos = np.array([\"Pedro\", \"Juan\", \"Maria\", \"Alfonso\", \"Mario\", \"Juana\", \"Antonio\", \"Marco\", \n",
    "                    \"Julia\", \"Noelia\", \"Alvaro\", \"Natalia\", \"Jose\", \"Carlos\", \"Diego\"])\n",
    "\n",
    "media=np.mean(notas)\n",
    "print(media)\n",
    "mediana=np.median(notas)\n",
    "print(mediana)\n"
   ]
  },
  {
   "cell_type": "code",
   "execution_count": 38,
   "id": "39c53496",
   "metadata": {},
   "outputs": [
    {
     "name": "stdout",
     "output_type": "stream",
     "text": [
      "2.01\n",
      "4.03\n"
     ]
    }
   ],
   "source": [
    "# ¿Cuál es la desviación estándar y la varianza del conjunto de datos?\n",
    "import numpy as np\n",
    "notas = np.array([8, 5, 4, 6, 8, 7, 9, 9, 3, 5, 7, 7, 3, 4, 8])\n",
    "# Array alumnos\n",
    "alumnos = np.array([\"Pedro\", \"Juan\", \"Maria\", \"Alfonso\", \"Mario\", \"Juana\", \"Antonio\", \"Marco\", \n",
    "                    \"Julia\", \"Noelia\", \"Alvaro\", \"Natalia\", \"Jose\", \"Carlos\", \"Diego\"])\n",
    "\n",
    "desviacion=np.std(notas)\n",
    "print(\"%.2f\" %desviacion)\n",
    "varianza=np.var(notas)\n",
    "print(\"%.2f\" %varianza)"
   ]
  },
  {
   "cell_type": "code",
   "execution_count": 39,
   "id": "59e4db37",
   "metadata": {},
   "outputs": [
    {
     "name": "stdout",
     "output_type": "stream",
     "text": [
      "2.01\n"
     ]
    }
   ],
   "source": [
    "# Calcula la desviación estándar a través de la varianza\n",
    "import numpy as np\n",
    "notas = np.array([8, 5, 4, 6, 8, 7, 9, 9, 3, 5, 7, 7, 3, 4, 8])\n",
    "# Array alumnos\n",
    "alumnos = np.array([\"Pedro\", \"Juan\", \"Maria\", \"Alfonso\", \"Mario\", \"Juana\", \"Antonio\", \"Marco\", \n",
    "                    \"Julia\", \"Noelia\", \"Alvaro\", \"Natalia\", \"Jose\", \"Carlos\", \"Diego\"])\n",
    "\n",
    "varianza=np.var(notas)\n",
    "desviacion=np.sqrt(varianza)\n",
    "print(\"%.2f\" %desviacion)"
   ]
  },
  {
   "cell_type": "code",
   "execution_count": 40,
   "id": "0c99fdca",
   "metadata": {},
   "outputs": [
    {
     "name": "stdout",
     "output_type": "stream",
     "text": [
      "True\n"
     ]
    }
   ],
   "source": [
    "# Comprueba si ha suspendido algún alumno\n",
    "import numpy as np\n",
    "notas = np.array([8, 5, 4, 6, 8, 7, 9, 9, 3, 5, 7, 7, 3, 4, 8])\n",
    "# Array alumnos\n",
    "alumnos = np.array([\"Pedro\", \"Juan\", \"Maria\", \"Alfonso\", \"Mario\", \"Juana\", \"Antonio\", \"Marco\", \n",
    "                    \"Julia\", \"Noelia\", \"Alvaro\", \"Natalia\", \"Jose\", \"Carlos\", \"Diego\"])\n",
    "\n",
    "print(np.any(notas<5))"
   ]
  },
  {
   "cell_type": "code",
   "execution_count": 44,
   "id": "5666d915",
   "metadata": {},
   "outputs": [
    {
     "name": "stdout",
     "output_type": "stream",
     "text": [
      "aprobados: ['Pedro' 'Juan' 'Alfonso' 'Mario' 'Juana' 'Antonio' 'Marco' 'Noelia'\n",
      " 'Alvaro' 'Natalia' 'Diego']\n",
      "suspendidos: ['Maria' 'Julia' 'Jose' 'Carlos']\n"
     ]
    }
   ],
   "source": [
    "# Muestra cuánntos alumnos han aprobado y cuantos han suspendido\n",
    "import numpy as np\n",
    "notas = np.array([8, 5, 4, 6, 8, 7, 9, 9, 3, 5, 7, 7, 3, 4, 8])\n",
    "# Array alumnos\n",
    "alumnos = np.array([\"Pedro\", \"Juan\", \"Maria\", \"Alfonso\", \"Mario\", \"Juana\", \"Antonio\", \"Marco\", \n",
    "                    \"Julia\", \"Noelia\", \"Alvaro\", \"Natalia\", \"Jose\", \"Carlos\", \"Diego\"])\n",
    "\n",
    "print(f\"aprobados: {alumnos[notas>=5]}\")\n",
    "print(f\"suspendidos: {alumnos[notas<5]}\")"
   ]
  },
  {
   "cell_type": "markdown",
   "id": "cee40fbd",
   "metadata": {},
   "source": [
    "# Percentil\n",
    "\n",
    "https://es.wikipedia.org/wiki/Percentil\n",
    "\n",
    "En el enlace de wikipedia se explica en qué consiste la medida percentil. Existen en numpy unos métodos para calcularlo."
   ]
  },
  {
   "cell_type": "code",
   "execution_count": null,
   "id": "6a0e1cec",
   "metadata": {},
   "outputs": [],
   "source": [
    "# ¿Qué valor se encuentra en el percentil 25? ¿y en el 50? ¿con qué valor coincide este último?\n",
    "# Busca numpy.percentile en la documentación oficial\n"
   ]
  },
  {
   "cell_type": "code",
   "execution_count": null,
   "id": "179b50fc",
   "metadata": {},
   "outputs": [
    {
     "name": "stdout",
     "output_type": "stream",
     "text": [
      "El 30% de los alumnos con mejor nota son['Pedro' 'Mario' 'Antonio' 'Marco' 'Diego']\n"
     ]
    }
   ],
   "source": [
    "# Vamos a filtrar a los alumnos\n",
    "# Queremos solamente un 30% de los alumnos, los que tienen mejores notas. Calcula el valor del percentil correspondiente\n",
    "import numpy as np\n",
    "notas = np.array([8, 5, 4, 6, 8, 7, 9, 9, 3, 5, 7, 7, 3, 4, 8])\n",
    "# Array alumnos\n",
    "alumnos = np.array([\"Pedro\", \"Juan\", \"Maria\", \"Alfonso\", \"Mario\", \"Juana\", \"Antonio\", \"Marco\", \n",
    "                    \"Julia\", \"Noelia\", \"Alvaro\", \"Natalia\", \"Jose\", \"Carlos\", \"Diego\"])\n",
    "# Muestra los nombres del 30% de alumnos con mejor nota\n",
    "mejores_alumnos = alumnos[notas >= np.percentile(notas,70)]\n",
    "print(f\"El 30% de los alumnos con mejor nota son{mejores_alumnos}\")\n",
    "\n"
   ]
  },
  {
   "cell_type": "code",
   "execution_count": 6,
   "id": "48bff742",
   "metadata": {},
   "outputs": [
    {
     "name": "stdout",
     "output_type": "stream",
     "text": [
      "alumno: Pedro Nota: 8\n",
      "alumno: Juan Nota: 5\n",
      "alumno: Maria Nota: 4\n",
      "alumno: Alfonso Nota: 6\n",
      "alumno: Mario Nota: 8\n",
      "alumno: Juana Nota: 7\n",
      "alumno: Antonio Nota: 9\n",
      "alumno: Marco Nota: 9\n",
      "alumno: Julia Nota: 3\n",
      "alumno: Noelia Nota: 5\n",
      "alumno: Alvaro Nota: 7\n",
      "alumno: Natalia Nota: 7\n",
      "alumno: Jose Nota: 3\n",
      "alumno: Carlos Nota: 4\n",
      "alumno: Diego Nota: 8\n"
     ]
    }
   ],
   "source": [
    "# Comprueba el resultado anterior mostrando las notas de cada alumno\n",
    "for index,alumno in enumerate(alumnos):\n",
    "    print(f\"alumno: {alumno} Nota: {notas[index]}\")"
   ]
  }
 ],
 "metadata": {
  "kernelspec": {
   "display_name": "envirtual (3.12.3)",
   "language": "python",
   "name": "python3"
  },
  "language_info": {
   "codemirror_mode": {
    "name": "ipython",
    "version": 3
   },
   "file_extension": ".py",
   "mimetype": "text/x-python",
   "name": "python",
   "nbconvert_exporter": "python",
   "pygments_lexer": "ipython3",
   "version": "3.12.3"
  }
 },
 "nbformat": 4,
 "nbformat_minor": 5
}
