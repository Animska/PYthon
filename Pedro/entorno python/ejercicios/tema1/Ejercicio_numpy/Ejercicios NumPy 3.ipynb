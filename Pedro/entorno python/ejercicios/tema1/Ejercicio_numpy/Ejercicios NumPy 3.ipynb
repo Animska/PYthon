{
 "cells": [
  {
   "cell_type": "markdown",
   "id": "a5e376e0",
   "metadata": {},
   "source": [
    "# Array de datos inicial\n",
    "\n",
    "Disponemos de 2 arrays de datos:\n",
    "\n",
    "+ ndarray de nombres\n",
    "+ ndarray de notas\n",
    "\n",
    "Los arrays tienen el mismo tamaño y se relacionan por su índice. \"Alberto\" ocupta el índice 0, su nota corresponde al índice 0.\n",
    "\n",
    "\n",
    "Para hacer estos ejercicios hay que avanzar en el **Tema 1 hasta la página 24**\n",
    "\n",
    "Estos ejercicios se realizan invocando funcionalidades de numpy, por lo que cada acción que se pide se realiza en una o dos líneas de código, sin utilizar estructuras de control"
   ]
  },
  {
   "cell_type": "code",
   "execution_count": 1,
   "id": "0cb3f549",
   "metadata": {},
   "outputs": [
    {
     "name": "stdout",
     "output_type": "stream",
     "text": [
      "['Alberto' 'Álvaro' 'Antonio' 'Guillermo' 'José Manuel' 'Juan Diego'\n",
      " 'Juan Ignacio' 'Juan José' 'María' 'Raúl' 'Victor']\n",
      "[ 2  7  7 10  8  5  5  6  7  1  3]\n"
     ]
    }
   ],
   "source": [
    "import numpy as np\n",
    "\n",
    "nombres = np.array([\"Alberto\", \"Álvaro\", \"Antonio\", \"Guillermo\", \"José Manuel\", \"Juan Diego\", \"Juan Ignacio\",\n",
    "                    \"Juan José\", \"María\", \"Raúl\", \"Victor\"])\n",
    "print(nombres)\n",
    "notas = np.random.randint(1, 11, nombres.size)\n",
    "print(notas)"
   ]
  },
  {
   "cell_type": "markdown",
   "id": "ebfa6b19",
   "metadata": {},
   "source": [
    "# Métodos del ndarray, funciones de numpy y slicing\n",
    "\n",
    "Realiza lo que se pide en cada comentario usando un método del propio objeto ndarray, función directa de numpy o el slice igual que en listas.\n",
    "\n"
   ]
  },
  {
   "cell_type": "code",
   "execution_count": 15,
   "id": "df3642c4",
   "metadata": {},
   "outputs": [
    {
     "name": "stdout",
     "output_type": "stream",
     "text": [
      "la nota media es 6.64\n",
      "la desviacion estandar es 2.27\n",
      "nombres al reves: ['Victor' 'Raúl' 'María' 'Juan José' 'Juan Ignacio' 'Juan Diego'\n",
      " 'José Manuel' 'Guillermo' 'Antonio' 'Álvaro' 'Alberto']\n",
      "[ 3  4  4  5  6  7  8  8  9  9 10]\n"
     ]
    }
   ],
   "source": [
    "import numpy\n",
    "\n",
    "nombres = numpy.array([\"Alberto\", \"Álvaro\", \"Antonio\", \"Guillermo\", \"José Manuel\", \"Juan Diego\", \"Juan Ignacio\",\n",
    "                    \"Juan José\", \"María\", \"Raúl\", \"Victor\"])\n",
    "notas = numpy.random.randint(1, 11, nombres.size)\n",
    "\n",
    "# Muestra Nota media de los alumnos\n",
    "media = numpy.mean(notas)\n",
    "print(f\"la nota media es {round(media,2)}\")\n",
    "\n",
    "# Muestra Desviación estándar\n",
    "desv=numpy.std(notas)\n",
    "print(f\"la desviacion estandar es {round(desv,2)}\")\n",
    "# Mostrar nombres del revés mediante una slice\n",
    "print(f\"nombres al reves: {nombres[::-1]}\")\n",
    "\n",
    "# Ordenar, haciendo una copia de datos en otra variable, las notas de menor a mayor\n",
    "notas_ord=numpy.sort(notas)\n",
    "print(notas_ord)\n"
   ]
  },
  {
   "cell_type": "markdown",
   "id": "25e61e21",
   "metadata": {},
   "source": [
    "# Aritmética, Comparaciones e indexación booleana\n",
    "\n",
    "Estos ejercicios requieren alguna comparación de arrays, indexación booleana y aritmética, además de alguna función o método de numpy. Si no controlas la indexación booleana busca antes en los apuntes y realiza tus propias pruebas hasta controlar cómo funcionan."
   ]
  },
  {
   "cell_type": "code",
   "execution_count": 74,
   "id": "45227cba",
   "metadata": {},
   "outputs": [
    {
     "name": "stdout",
     "output_type": "stream",
     "text": [
      "1-Sumar 1 a todas las notas\n",
      "[ 5  1  7  2  4  4  5  8  5 10  3]\n",
      "[ 6  2  8  3  5  5  6  9  6 11  4]\n",
      "\n",
      "2-Mostrar cuantos aprobados hay\n",
      "Hay 8 aprobados\n",
      "\n",
      "Mostrar nombres de alumnos aprobados\n",
      "['Alberto' 'Antonio' 'José Manuel' 'Juan Diego' 'Juan Ignacio' 'Juan José'\n",
      " 'María' 'Raúl']\n",
      "\n",
      "Mostrar nombres con nota superior a la media\n",
      "['Alberto' 'Antonio' 'Juan Ignacio' 'Juan José' 'María' 'Raúl'] tienen nota superior a la media\n",
      "\n",
      "Asignar un 5 a los que tienen un 4\n",
      "[ 6  2  8  3  5  5  6  9  6 11  4]\n",
      "[ 6  2  8  3  5  5  6  9  6 11  5]\n",
      "\n",
      "Sumar 1 a todas las notas mayores a 4\n",
      "[ 6  2  8  3  5  5  6  9  6 11  5]\n",
      "[ 7  2  9  3  6  6  7 10  7 12  6]\n",
      "\n"
     ]
    }
   ],
   "source": [
    "import numpy\n",
    "\n",
    "nombres = numpy.array([\"Alberto\", \"Álvaro\", \"Antonio\", \"Guillermo\", \"José Manuel\", \"Juan Diego\", \"Juan Ignacio\",\n",
    "                    \"Juan José\", \"María\", \"Raúl\", \"Victor\"])\n",
    "notas = numpy.random.randint(1, 11, nombres.size)\n",
    "\n",
    "print(\"1-Sumar 1 a todas las notas\")\n",
    "print(notas)\n",
    "notas=numpy.add(notas,1)\n",
    "print(notas)\n",
    "print()\n",
    "\n",
    "print(\"2-Mostrar cuantos aprobados hay\")\n",
    "aprobados= notas>=5\n",
    "print(f\"Hay {len(nombres[aprobados])} aprobados\")\n",
    "print()\n",
    "\n",
    "print(\"Mostrar nombres de alumnos aprobados\")\n",
    "aprobados= notas>=5\n",
    "print(nombres[aprobados])\n",
    "print()\n",
    "\n",
    "\n",
    "print(\"Mostrar nombres con nota superior a la media\")\n",
    "media = numpy.mean(notas)\n",
    "print(f\"{nombres[notas>media]} tienen nota superior a la media\")\n",
    "print()\n",
    "\n",
    "print(\"Asignar un 5 a los que tienen un 4\")\n",
    "cuatros=notas==4\n",
    "print(notas)\n",
    "notas[cuatros]=5\n",
    "print(notas)\n",
    "print()\n",
    "\n",
    "print(\"Sumar 1 a todas las notas mayores a 4\")\n",
    "mayor_que_cuatro=notas>4\n",
    "print(notas)\n",
    "notas[mayor_que_cuatro]+=1\n",
    "print(notas)\n",
    "print()"
   ]
  },
  {
   "cell_type": "code",
   "execution_count": null,
   "id": "eebb4a4d",
   "metadata": {},
   "outputs": [],
   "source": []
  }
 ],
 "metadata": {
  "kernelspec": {
   "display_name": "envirtual (3.12.3)",
   "language": "python",
   "name": "python3"
  },
  "language_info": {
   "codemirror_mode": {
    "name": "ipython",
    "version": 3
   },
   "file_extension": ".py",
   "mimetype": "text/x-python",
   "name": "python",
   "nbconvert_exporter": "python",
   "pygments_lexer": "ipython3",
   "version": "3.12.3"
  }
 },
 "nbformat": 4,
 "nbformat_minor": 5
}
