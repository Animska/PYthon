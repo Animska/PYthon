{
 "cells": [
  {
   "cell_type": "markdown",
   "id": "da2271c7",
   "metadata": {},
   "source": [
    "# Ejercicios con while\n",
    "\n",
    "Vuelve a realizar los 4 ejercicios de **\"Numpy 1\"** utilizando un bucle **while** en lugar de for."
   ]
  },
  {
   "cell_type": "code",
   "execution_count": null,
   "id": "643a95ad",
   "metadata": {},
   "outputs": [
    {
     "name": "stdout",
     "output_type": "stream",
     "text": [
      "Dimensiones: 1\n",
      "Tamaño: 4\n",
      "Shape: (4,)\n",
      "Tipo: float64\n",
      "4.5\n",
      "7.36\n",
      "7.0\n",
      "0.56\n"
     ]
    }
   ],
   "source": [
    "# Ejercicio 1\n",
    "import numpy as np\n",
    "\n",
    "# Lista para crear el array a partir de ella\n",
    "lista = [4.5, 7.36, 7., 0.56]\n",
    "\n",
    "# Creamos el array mediante la estructura lista\n",
    "mi_array = np.array(lista)\n",
    "\n",
    "#Sigue a partir de aquí\n",
    "print(f\"Dimensiones: {mi_array.ndim}\")\n",
    "print(f\"Tamaño: {mi_array.size}\")\n",
    "print(f\"Shape: {mi_array.shape}\")\n",
    "print(f\"Tipo: {mi_array.dtype}\")\n",
    "\n",
    "index=0\n",
    "while index<len(mi_array):\n",
    "    print(mi_array[index])\n",
    "    index+=1\n"
   ]
  },
  {
   "cell_type": "code",
   "execution_count": 2,
   "id": "6a6316c6",
   "metadata": {},
   "outputs": [
    {
     "name": "stdout",
     "output_type": "stream",
     "text": [
      "[ 1  2  3  4  6  8 10]\n",
      "int64\n",
      "[9 8 7 6 5 4 3]\n",
      "int64\n"
     ]
    }
   ],
   "source": [
    "import numpy as np\n",
    "\n",
    "def inicializar_array(ndarray):\n",
    "    cont=0\n",
    "    while cont <len(ndarray):\n",
    "        valor=int(input(\"introduce un numero: \"))\n",
    "        ndarray[cont]=valor\n",
    "        cont+=1\n",
    "    return ndarray\n",
    "\n",
    "array=np.array([1,2,3,4,6,8,10])\n",
    "print(array)\n",
    "print(array.dtype)\n",
    "array_mod=inicializar_array(array)\n",
    "print(array_mod)\n",
    "print(array.dtype)\n"
   ]
  },
  {
   "cell_type": "code",
   "execution_count": 4,
   "id": "90f2ba99",
   "metadata": {},
   "outputs": [
    {
     "name": "stdout",
     "output_type": "stream",
     "text": [
      "3.0\n",
      "5\n",
      "1\n"
     ]
    }
   ],
   "source": [
    "# Ejercicio 3\n",
    "import numpy as np\n",
    "\n",
    "def media(ndarray):\n",
    "    media=0\n",
    "    cont=0\n",
    "    while cont <len(ndarray):\n",
    "        media+=ndarray[cont]\n",
    "        cont+=1\n",
    "    media/=len(ndarray)\n",
    "    return media\n",
    "\n",
    "def minimo(ndarray):\n",
    "    min=ndarray[0]\n",
    "    cont=0\n",
    "    while cont <len(ndarray):\n",
    "        if ndarray[cont]<min:\n",
    "            min=ndarray[cont]\n",
    "        cont+=1\n",
    "    return min\n",
    "\n",
    "def maximo(ndarray):\n",
    "    max=ndarray[0]\n",
    "    cont=0\n",
    "    while cont <len(ndarray):\n",
    "        if ndarray[cont]>max:\n",
    "            max=ndarray[cont]\n",
    "        cont+=1\n",
    "    return max\n",
    "    \n",
    "array=np.array([1,2,3,4,5])\n",
    "print(media(array))\n",
    "print(maximo(array))\n",
    "print(minimo(array))"
   ]
  },
  {
   "cell_type": "code",
   "execution_count": 6,
   "id": "ebb4adb2",
   "metadata": {},
   "outputs": [
    {
     "name": "stdout",
     "output_type": "stream",
     "text": [
      "3\n"
     ]
    }
   ],
   "source": [
    "# Ejercicio 4\n",
    "import numpy as np\n",
    "\n",
    "def encontrar(array,valor):\n",
    "    cont=0\n",
    "    while cont <len(array):\n",
    "        if array[cont]==valor:\n",
    "            return cont\n",
    "        cont+=1\n",
    "        #no he puesto else por que retorna None si no encuentra nada\n",
    "        \n",
    "    \n",
    "array=np.array([1,2,3,4,5])\n",
    "valor=4\n",
    "\n",
    "print(encontrar(array,valor))\n"
   ]
  },
  {
   "cell_type": "markdown",
   "id": "e13f2c4e",
   "metadata": {},
   "source": [
    "### Ejercicio 5\n",
    "\n",
    "Crear una función “desviación estándar” que reciba por parámetro un array y devuelva la desviación estándar. Calcular paso a paso el resultado utilizando un **for** para recorrer el array. También se debe usar la función “media” del ejercicio 2. Para calcular la raíz cuadrada podemos usar la función de numpy.sqrt(n). Operador potencia es **"
   ]
  },
  {
   "cell_type": "code",
   "execution_count": null,
   "id": "35b66f63",
   "metadata": {},
   "outputs": [
    {
     "name": "stdout",
     "output_type": "stream",
     "text": [
      "1.41\n",
      "1.41\n"
     ]
    }
   ],
   "source": [
    "import numpy\n",
    "\n",
    "def media(ndarray):\n",
    "    suma = 0.0\n",
    "    for i in ndarray:\n",
    "        suma += i\n",
    "    suma /= len(ndarray)\n",
    "    return suma\n",
    "\n",
    "def desviacion_estandar(array):\n",
    "    m = media(array)\n",
    "    suma_cuadrados = 0.0\n",
    "    for x in array:\n",
    "        suma_cuadrados += (x - m) ** 2\n",
    "    varianza = suma_cuadrados / len(array)\n",
    "    return numpy.sqrt(varianza)\n",
    "\n",
    "array = numpy.array([1,2,3,4,5])\n",
    "print(round(desviacion_estandar(array),2))\n",
    "print(round(numpy.std(array),2))\n"
   ]
  },
  {
   "cell_type": "markdown",
   "id": "b9249921",
   "metadata": {},
   "source": [
    "# A partir de aquí puedes usar las funciones de NumPy de las diapositivas, además de bucles o las funciones creadas en ejercicios anteriores."
   ]
  },
  {
   "cell_type": "markdown",
   "id": "bc06acc6",
   "metadata": {},
   "source": [
    "### Ejercicio 6 \n",
    "\n",
    "Crea una función reciba por parámetro un array y un valor y devuelva cuantas veces aparece ese valor en el array.\n"
   ]
  },
  {
   "cell_type": "code",
   "execution_count": 18,
   "id": "52ebf859",
   "metadata": {},
   "outputs": [
    {
     "name": "stdout",
     "output_type": "stream",
     "text": [
      "el valor 2 aparece 3 veces.\n"
     ]
    }
   ],
   "source": [
    "import numpy\n",
    "\n",
    "def recuento_apariciones(array,valor):\n",
    "    result=numpy.where(array==valor)\n",
    "    return(result)\n",
    "\n",
    "array1=np.array([1,2,3,4,5,8,10,15,20,2,4,2])\n",
    "valor=2\n",
    "recuento=recuento_apariciones(array1,valor)\n",
    "\n",
    "print(f\"el valor {valor} aparece {len(recuento[0])} veces.\")\n",
    "# print(recuento)\n",
    "# print(len(recuento[0]))"
   ]
  },
  {
   "cell_type": "markdown",
   "id": "25980043",
   "metadata": {},
   "source": [
    "### Ejercicio 7\n",
    "\n",
    "Crea una función que reciba por parámetro un array y devuelva cuantas veces aparece el valor máximo en el array.\n"
   ]
  },
  {
   "cell_type": "code",
   "execution_count": 22,
   "id": "5c877460",
   "metadata": {},
   "outputs": [
    {
     "name": "stdout",
     "output_type": "stream",
     "text": [
      "el valor maximo que es:20 aparece 1 veces.\n"
     ]
    }
   ],
   "source": [
    "import numpy\n",
    "\n",
    "def recuento_maximos(array):\n",
    "    max=numpy.max(array)\n",
    "    result=numpy.where(array==max)\n",
    "    return result\n",
    "\n",
    "\n",
    "array1=numpy.array([1,2,3,4,5,8,10,15,20,2,4,2])\n",
    "recuento=recuento_maximos(array1)\n",
    "\n",
    "print(f\"el valor maximo que es:{numpy.max(array1)} aparece {len(recuento[0])} veces.\")"
   ]
  },
  {
   "cell_type": "markdown",
   "id": "a2246bcb",
   "metadata": {},
   "source": [
    "### Ejercicio 8\n",
    "\n",
    "Crea una función que reciba por parámetro un array y devuelva la moda."
   ]
  },
  {
   "cell_type": "code",
   "execution_count": null,
   "id": "1f0d0135",
   "metadata": {},
   "outputs": [
    {
     "name": "stdout",
     "output_type": "stream",
     "text": [
      "[ 1  2  3  4  5  8 10 15 20]\n",
      "[1 3 1 2 1 1 1 1 1]\n",
      "2\n"
     ]
    }
   ],
   "source": [
    "import numpy\n",
    "\n",
    "def moda(array):\n",
    "    array_unique, cont = numpy.unique(array, return_counts=True)\n",
    "    moda = array_unique[numpy.argmax(cont)]  \n",
    "    return moda\n",
    "\n",
    "array1=numpy.array([1,2,3,4,5,8,10,15,20,2,4,2])\n",
    "print(moda(array1))"
   ]
  },
  {
   "cell_type": "markdown",
   "id": "a5f8a69c",
   "metadata": {},
   "source": [
    "### Ejercicio 9\n",
    "\n",
    "Crea una función que reciba por parámetro un array y devuelva otro array que contenga los índices (posiciones del array original) de aquellos valores que son mayores a la media del array."
   ]
  },
  {
   "cell_type": "code",
   "execution_count": 29,
   "id": "1feed2fc",
   "metadata": {},
   "outputs": [
    {
     "name": "stdout",
     "output_type": "stream",
     "text": [
      "6.333333333333333\n",
      "[5 6 7 8]\n"
     ]
    }
   ],
   "source": [
    "import numpy\n",
    "\n",
    "def recuento_mayor_media(array):\n",
    "    media=numpy.mean(array)\n",
    "    result=numpy.where(array>media)\n",
    "    return result\n",
    "\n",
    "\n",
    "array1=numpy.array([1,2,3,4,5,8,10,15,20,2,4,2])\n",
    "array_mayor_medias=recuento_mayor_media(array1)[0]\n",
    "print(numpy.mean(array1))\n",
    "print(array_mayor_medias)\n",
    "\n"
   ]
  }
 ],
 "metadata": {
  "kernelspec": {
   "display_name": "envirtual (3.12.3)",
   "language": "python",
   "name": "python3"
  },
  "language_info": {
   "codemirror_mode": {
    "name": "ipython",
    "version": 3
   },
   "file_extension": ".py",
   "mimetype": "text/x-python",
   "name": "python",
   "nbconvert_exporter": "python",
   "pygments_lexer": "ipython3",
   "version": "3.12.3"
  }
 },
 "nbformat": 4,
 "nbformat_minor": 5
}
