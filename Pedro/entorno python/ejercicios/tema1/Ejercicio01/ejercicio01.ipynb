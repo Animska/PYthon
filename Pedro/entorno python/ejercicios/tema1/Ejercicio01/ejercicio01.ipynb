{
 "cells": [
  {
   "cell_type": "markdown",
   "metadata": {},
   "source": [
    "# Ejercicio 1: Variables y Operadores Aritméticos\n",
    "\n",
    "Declara dos variables a y b con valores enteros.\n",
    "Calcula la suma, resta, multiplicación, división, el resto(módulo), división entera, potencia\n",
    "Muestra los resultados en la consola.\n",
    "\n",
    "Por último, guarda en una variable \"precio\" el valor 25.99 y en otra variable \"IVA\" el valor 10. Calcula el precio final sumándole el porcentaje de IVA correspondiente al precio y muestra el mensaje \"Precio incial=  , IVA= , Precio final = \"."
   ]
  },
  {
   "cell_type": "code",
   "execution_count": 2,
   "metadata": {},
   "outputs": [
    {
     "name": "stdout",
     "output_type": "stream",
     "text": [
      "Suma: 11\n",
      "Resta: -1\n",
      "Multiplicación: 30\n",
      "División: 0.8333333333333334\n",
      "Módulo: 5\n",
      "Precio inicial=25.99, IVA=10, Precio final=28.589\n"
     ]
    }
   ],
   "source": [
    "a=5\n",
    "b=6\n",
    "\n",
    "print(f\"Suma: {a+b}\")\n",
    "print(f\"Resta: {a-b}\")\n",
    "print(f\"Multiplicación: {a*b}\")\n",
    "print(f\"División: {a/b}\")\n",
    "print(f\"Módulo: {a%b}\")\n",
    "\n",
    "precio=25.99\n",
    "iva=10\n",
    "print(f\"Precio inicial={precio}, IVA={iva}, Precio final={precio+(precio/iva)}\")\n",
    "\n"
   ]
  },
  {
   "cell_type": "markdown",
   "metadata": {},
   "source": [
    "# Ejercicio 2: Operadores de Asignación\n",
    "\n",
    "+ Declara una variable x con un valor entero 10.\n",
    "+ Usa operadores de asignación y aritmética para modificar el valor de x sucesivamente según la lista. \n",
    "    + += 5\n",
    "    + -= 3\n",
    "    + *= 2\n",
    "    + /= 4\n",
    "    + %= 3\n",
    "\n",
    "Muestra el valor de x y el tipo después de cada operación, en formato -> \"x += 5 es [el valor que sea], tipo [el que sea]"
   ]
  },
  {
   "cell_type": "code",
   "execution_count": 31,
   "metadata": {},
   "outputs": [
    {
     "name": "stdout",
     "output_type": "stream",
     "text": [
      "x+=5=15 y su tipo es <class 'int'>\n",
      "x-=3=7 y su tipo es <class 'int'>\n",
      "x*=2=20 y su tipo es <class 'int'>\n",
      "x/=4=2.5 y su tipo es <class 'float'>\n",
      "x%=3=1 y su tipo es <class 'int'>\n"
     ]
    }
   ],
   "source": [
    "x=10\n",
    "\n",
    "x+=5\n",
    "print(f\"x+=5={x:} y su tipo es {type(x)}\")\n",
    "\n",
    "x=10\n",
    "x-=3\n",
    "print(f\"x-=3={x} y su tipo es {type(x)}\")\n",
    "\n",
    "x=10\n",
    "x*=2\n",
    "print(f\"x*=2={x} y su tipo es {type(x)}\")\n",
    "\n",
    "x=10\n",
    "x/=4\n",
    "print(f\"x/=4={x} y su tipo es {type(x)}\")\n",
    "\n",
    "x=10\n",
    "x%=3\n",
    "print(f\"x%=3={x} y su tipo es {type(x)}\")\n"
   ]
  },
  {
   "cell_type": "markdown",
   "metadata": {},
   "source": [
    "# Ejercicio 3: Operadores de Comparación\n",
    "Declara dos variables a y b con valores enteros diferentes.\n",
    "Usa operadores de comparación para comparar a y b (==, !=, >, <, >=, <=).\n",
    "Muestra los resultados de las comparaciones en la consola."
   ]
  },
  {
   "cell_type": "code",
   "execution_count": 12,
   "metadata": {},
   "outputs": [
    {
     "name": "stdout",
     "output_type": "stream",
     "text": [
      "a==b:False\n",
      "a!=b:True\n",
      "a>b:False\n",
      "a<b:True\n",
      "a>=b:False\n",
      "a<=b:True\n"
     ]
    }
   ],
   "source": [
    "a=5\n",
    "b=9\n",
    "\n",
    "print(f\"a==b:{a==b}\")\n",
    "print(f\"a!=b:{a!=b}\")\n",
    "print(f\"a>b:{a>b}\")\n",
    "print(f\"a<b:{a<b}\")\n",
    "print(f\"a>=b:{a>=b}\")\n",
    "print(f\"a<=b:{a<=b}\")"
   ]
  },
  {
   "cell_type": "markdown",
   "metadata": {},
   "source": [
    "# Ejercicio 4: Operadores Lógicos\n",
    "\n",
    "Declara dos variables booleanas p (True) y q (False).\n",
    "Usa operadores lógicos (and, or, not) para combinar p y q.\n",
    "Muestra los resultados de las combinaciones en la consola."
   ]
  },
  {
   "cell_type": "code",
   "execution_count": null,
   "metadata": {},
   "outputs": [
    {
     "name": "stdout",
     "output_type": "stream",
     "text": [
      "p and q: False\n",
      "p or q: True\n",
      "not p: False\n"
     ]
    }
   ],
   "source": [
    "p=True\n",
    "q=False\n",
    "\n",
    "print(f\"p and q:{p and q} \")\n",
    "print(f\"p or q:{p or q} \")\n",
    "print(f\"not q: {not p}\")"
   ]
  },
  {
   "cell_type": "markdown",
   "metadata": {},
   "source": [
    "# Ejercicio 5: Operadores is y in\n",
    "\n",
    "Declara una variable a con un valor entero y otra variable b con el mismo valor.\n",
    "Usa el operador is para verificar si a y b son el mismo objeto. Comprueba lo mismo obteniendo sus id y un operador de comparación.\n",
    "\n",
    "Declara un string con una cadena.\n",
    "Usa el operador in para verificar si una subcadena está dentro o no de la lista.\n",
    "Muestra los resultados en la consola con un mensaje. Por ejemplo \"la cadena 'x' no está en la cadena 'y'\""
   ]
  },
  {
   "cell_type": "code",
   "execution_count": 15,
   "metadata": {},
   "outputs": [
    {
     "name": "stdout",
     "output_type": "stream",
     "text": [
      "a is b:True\n",
      "M in c:True\n",
      "J in c:False\n"
     ]
    }
   ],
   "source": [
    "a=3\n",
    "b=3\n",
    "c=\"BMW M3 GTR\"\n",
    "print(f\"a is b:{a is b}\")\n",
    "print(f\"M in c:{\"M\" in c}\")\n",
    "print(f\"J in c:{\"J\" in c}\")"
   ]
  },
  {
   "cell_type": "markdown",
   "metadata": {},
   "source": [
    "# Ejercicio 6: Operaciones Binarias\n",
    "\n",
    "Realiza las siguientes operaciones, mostrando en cada paso los resultados en binario:\n",
    "\n",
    "+ Declara dos variables a y b con valores enteros.\n",
    "+ Realiza operaciones binarias (AND, OR, XOR) entre a y b.\n",
    "+ Realiza desplazamientos a la izquierda y a la derecha en a de 2 posiciones.\n"
   ]
  },
  {
   "cell_type": "code",
   "execution_count": null,
   "metadata": {},
   "outputs": [
    {
     "name": "stdout",
     "output_type": "stream",
     "text": [
      "valor binario de 5: 0b101\n",
      "valor binario de 4: 0b100\n",
      "\n",
      "\n",
      "a AND b: 4\n",
      "a OR b: 5\n",
      "a XOR b: 1\n"
     ]
    }
   ],
   "source": [
    "a=5\n",
    "b=4\n",
    "print(f\"valor binario de {a}: {bin(a)}\")\n",
    "print(f\"valor binario de {b}: {bin(b)}\")\n",
    "print(\"\\n\")\n",
    "print(f\"a AND b: {a&b}\")\n",
    "print(f\"a OR b: {a|b}\")\n",
    "print(f\"a XOR b: {a^b}\")\n",
    "print(\"\\n\")\n",
    "print(f\"a con dos valores desplazados a la derecha: {a>>2}\")\n",
    "print(f\"b con dos valores desplazados a la izquierda: {b<<2}\")\n",
    "\n"
   ]
  },
  {
   "cell_type": "markdown",
   "metadata": {},
   "source": [
    "# Desafío Binario\n",
    "\n",
    "+ Declara una variable a con el valor '10'\n",
    "+ Muestra el valor binario por pantalla\n",
    "+ Haciendo primero un and y luego al resultado anterior un or, obtener  0b1010.\n",
    "+ Muestra el resultado en la consola."
   ]
  },
  {
   "cell_type": "code",
   "execution_count": null,
   "metadata": {},
   "outputs": [
    {
     "name": "stdout",
     "output_type": "stream",
     "text": [
      "valor binario de 10: 0b1010\n",
      "valor binario de 10 despues del AND: 0b1010\n",
      "valor binario de 10 despues del AND: 0b1010\n"
     ]
    }
   ],
   "source": [
    "a=10\n",
    "print(f\"valor binario de {a}: {bin(a)}\")\n",
    "a=a&a\n",
    "print(f\"valor binario de {a} despues del AND: {bin(a)}\")\n",
    "a=a|a\n",
    "print(f\"valor binario de {a} despues del OR: {bin(a)}\")\n"
   ]
  }
 ],
 "metadata": {
  "kernelspec": {
   "display_name": "entorno_tareas (3.12.3)",
   "language": "python",
   "name": "python3"
  },
  "language_info": {
   "codemirror_mode": {
    "name": "ipython",
    "version": 3
   },
   "file_extension": ".py",
   "mimetype": "text/x-python",
   "name": "python",
   "nbconvert_exporter": "python",
   "pygments_lexer": "ipython3",
   "version": "3.12.3"
  }
 },
 "nbformat": 4,
 "nbformat_minor": 2
}
