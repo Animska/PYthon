{
 "cells": [
  {
   "cell_type": "markdown",
   "metadata": {},
   "source": [
    "# Inputs, aritmética y comparaciones"
   ]
  },
  {
   "cell_type": "code",
   "execution_count": 2,
   "metadata": {},
   "outputs": [
    {
     "name": "stdout",
     "output_type": "stream",
     "text": [
      "¿Es el primer numero mayor que el segundo?:False\n",
      "suma:11\n",
      "multiplicación:30\n"
     ]
    }
   ],
   "source": [
    "# Pide 2 números por teclado y guárdalos en 2 variables\n",
    "a=int(input(\"introduce el numero a\"))\n",
    "b=int(input(\"introduce el numero b\"))\n",
    "\n",
    "# Muestra si el primer número es mayor que el segundo de la forma -> \"¿primero mayor que el segudo? True/False\"\n",
    "print(f\"¿Es el primer numero mayor que el segundo?:{a>b}\")\n",
    "\n",
    "# Realiza la suma y multiplicación de ambos números y muestra el resultado de la forma -> \"Suma: X, Multiplicación: Y\"\n",
    "print(f\"suma:{a+b}\")\n",
    "print(f\"multiplicación:{a*b}\")"
   ]
  },
  {
   "cell_type": "markdown",
   "metadata": {},
   "source": [
    "# Concatenación de strings\n",
    "\n",
    "Una forma rápida de concatenar strings (unir dos cadenas de caracteres) es mediante el operador '+'. Admite tanto variables que contienen un str como una string literal.\n",
    "\n",
    "+ Lee teclado 2 palabras y guárdalas en variables \"cadena1\" y \"cadena2\"\n",
    "+ Concatena ambas palabras en una nueva variable llamada \"cadena_total\" con un espacio entre ambas\n",
    "+ Guarda en una variable llamada \"entero\" el número 10\n",
    "+ Añade a cadena_total el contenido de la variable \"entero\" con un espacio de separación.\n",
    "+ Imprime el resultado"
   ]
  },
  {
   "cell_type": "code",
   "execution_count": 5,
   "metadata": {},
   "outputs": [
    {
     "name": "stdout",
     "output_type": "stream",
     "text": [
      "honda nsx 10\n"
     ]
    }
   ],
   "source": [
    "cadena=str(input(\"Introduce una palabra\"))\n",
    "cadena2=str(input(\"Introduce otra palabra\"))\n",
    "cadena_total=cadena+\" \"+cadena2\n",
    "entero=10\n",
    "print(cadena_total+\" \"+str(entero))\n"
   ]
  },
  {
   "cell_type": "markdown",
   "metadata": {},
   "source": [
    "# f-strings\n",
    "\n",
    "Pide 2 números enteros por teclado y guárdalos en entero1 y entero2\n",
    "\n",
    "Muestra directamente, utilizando f-strings \"La suma de ambos es X\"\n",
    "\n",
    "Los f-strings se construyen mezclando literales cadena con variables o expresiones encerradas entre {} y anteponiendo la 'f' al strings.\n",
    "\n",
    "Ejemplo: f\"Mi cadena literal {variable/expresión}\""
   ]
  },
  {
   "cell_type": "code",
   "execution_count": 6,
   "metadata": {},
   "outputs": [
    {
     "name": "stdout",
     "output_type": "stream",
     "text": [
      "la suma de ambos enteros es 10\n"
     ]
    }
   ],
   "source": [
    "entero1=int(input(\"ingresa un numero\"))\n",
    "entero2=int(input(\"ingresa un numero\"))\n",
    "print(f\"la suma de ambos enteros es {entero1+entero2}\")"
   ]
  },
  {
   "cell_type": "markdown",
   "metadata": {},
   "source": [
    "# ¿Qué es una función?\n",
    "\n",
    "Una función nos permite reutilizar porciones de código sin tener que escribirlo varias veces.\n",
    "\n",
    "1. Agrupamos un conjunto de instrucciones dentro de una función.\n",
    "2. Cuando queramos usar ese código, podemos \"invocarlo\" en cualquier punto del programa.\n",
    "3. Una función puede opcoinalmente recibir datos para operar con ellos. Estos datos se le envían a la función cuando se invoca.\n",
    "4. La función puede opcionalmente retornar un valor, que es recogido/guardado allí donde se invoca."
   ]
  },
  {
   "cell_type": "code",
   "execution_count": 7,
   "metadata": {},
   "outputs": [
    {
     "name": "stdout",
     "output_type": "stream",
     "text": [
      "10\n"
     ]
    }
   ],
   "source": [
    "# Dado 2 números quiero una función que retorne la suma\n",
    "def suma(a,b):\n",
    "    return a+b\n",
    "\n",
    "\n",
    "# Una vez definida la función, puedo llamarla tantas veces como quiera\n",
    "a=8\n",
    "b=2\n",
    "\n",
    "print(suma(a,b))"
   ]
  },
  {
   "cell_type": "markdown",
   "metadata": {},
   "source": [
    "# Importación de librería math\n",
    "\n",
    "Una **librería** es un conjunto de funciones, clases y definición de constantes en un archivo independiente de python.\n",
    "\n",
    "Python tiene un conjunto de librerías estandar que vienen con el propio intérprete que no es necesario instalarlas con pip.\n",
    "\n",
    "La librería math nos permite otras operaciones aritméticas aparte de las básicas.\n",
    "\n",
    "Importa la librería como -> **import math as m**\n",
    "\n",
    "Documentación de math -> https://docs.python.org/es/3/library/math.html"
   ]
  },
  {
   "cell_type": "code",
   "execution_count": 3,
   "metadata": {},
   "outputs": [],
   "source": [
    "import math\n",
    "\n"
   ]
  },
  {
   "cell_type": "code",
   "execution_count": null,
   "metadata": {},
   "outputs": [
    {
     "name": "stdout",
     "output_type": "stream",
     "text": [
      "7\n",
      "8\n"
     ]
    }
   ],
   "source": [
    "# EJEMPLOS DE FLOOR Y CEIL\n",
    "\n",
    "# Lee un número con decimales \n",
    "num=float(input(\"introduce un numero decimal\"))\n",
    "\n",
    "# Invocamos a la función floor de la librería math y nos va a devolver el resultado del redondeo a la baja\n",
    "print(math.floor(num))\n",
    "\n",
    "# Hacemos lo mismo al alza pero directamente con la función ceil\n",
    "print(math.ceil(num))"
   ]
  },
  {
   "cell_type": "markdown",
   "metadata": {},
   "source": [
    "# Retorno de algunas funciones\n",
    "\n",
    "Algunas funciones retornan (devuelven) 2 valores o incluso más. \n",
    "\n",
    "Realmente lo que devuelven es una tupla (las veremos a fondo más adelante). Una tupla es un conjunto de valores encerrados entre paréntesis y separados por comas. Ejemplo tupla de 3 valores -> (valor1, valor2, valor3)\n",
    "\n",
    "Podemos guardar los valores de una tupla en variables independientes haciendo una asignación, donde el número de variables debe coincidir con el número de valores de la tupla.\n"
   ]
  },
  {
   "cell_type": "code",
   "execution_count": null,
   "metadata": {},
   "outputs": [],
   "source": [
    "# Ejemplo de almacenar una tupla en dos variables\n",
    "tupla=(2,3)"
   ]
  },
  {
   "cell_type": "code",
   "execution_count": 1,
   "metadata": {},
   "outputs": [
    {
     "name": "stdout",
     "output_type": "stream",
     "text": [
      "a\n",
      "suma: 15\n",
      "resta: 5\n"
     ]
    }
   ],
   "source": [
    "\n",
    "print(\"a\")\n",
    "# Ejemplo función con retorno de 2 valores, retorna la suma y resta de 2 números\n",
    "def suma_resta(a,b):\n",
    "    suma=a+b\n",
    "    resta=a-b\n",
    "    return(suma,resta)\n",
    "\n",
    "# Invoco la función y guardo los valores en 2 variables\n",
    "\n",
    "suma,resta=suma_resta(b=5,a=10)\n",
    "print(f\"suma: {suma}\")\n",
    "print(f\"resta: {resta}\")\n"
   ]
  },
  {
   "cell_type": "markdown",
   "metadata": {},
   "source": [
    "# Función modf y precisión numérica"
   ]
  },
  {
   "cell_type": "code",
   "execution_count": 6,
   "metadata": {},
   "outputs": [
    {
     "name": "stdout",
     "output_type": "stream",
     "text": [
      "parte entera: 0.9\n",
      "parte decimal: 17.0\n"
     ]
    }
   ],
   "source": [
    "# La función modf de la librería math nos va a devolver una tupla con la parte decimal y la parte entera\n",
    "num=17.9\n",
    "entero,decimal=math.modf(num)\n",
    "\n",
    "# La parte fraccionaria no es exacta por motivos de precisión de representación en binario en punto flotante\n",
    "# Podemos redondear la parte fraccionaria a 2 decimales con la función predefinida round(número, decimales)\n",
    "print(f\"parte entera: {round(entero,2)}\")\n",
    "print(f\"parte decimal: {decimal}\")\n"
   ]
  },
  {
   "cell_type": "markdown",
   "metadata": {},
   "source": [
    "# Modificar el comportamiento de la función print()"
   ]
  },
  {
   "cell_type": "code",
   "execution_count": 8,
   "metadata": {},
   "outputs": [
    {
     "name": "stdout",
     "output_type": "stream",
     "text": [
      "Toyota1Toyota1Toyota1Toyota1Toyota1Toyota1"
     ]
    }
   ],
   "source": [
    "# Los print realizan un salto de línea por defecto, pero a veces deseamos seguir imprimiendo en la misma línea\n",
    "# La función print admite el parámetro \"end\" que indica cómo debe acabar el print. \n",
    "print(\"Toyota\" ,end=\"1\")\n",
    "print(\"Toyota\" ,end=\"1\")\n",
    "print(\"Toyota\" ,end=\"1\")\n",
    "print(\"Toyota\" ,end=\"1\")\n",
    "print(\"Toyota\" ,end=\"1\")\n",
    "print(\"Toyota\" ,end=\"1\")\n",
    "\n"
   ]
  },
  {
   "cell_type": "code",
   "execution_count": 9,
   "metadata": {},
   "outputs": [
    {
     "name": "stdout",
     "output_type": "stream",
     "text": [
      "BMW-Porsche-Mercedes-Audi\n"
     ]
    }
   ],
   "source": [
    "# También podemos modificar el separador cuando se imprimen varios elementos\n",
    "# Por defecto el separador es un espacio, pero podemos cambiarlo con el parámetro \"sep\"\n",
    "print(\"BMW\",\"Porsche\",\"Mercedes\",\"Audi\", sep=\"-\")\n"
   ]
  },
  {
   "cell_type": "markdown",
   "metadata": {},
   "source": [
    "# Ejercicio\n",
    "\n",
    "+ Calcula el área y el perímetro de un círculo.\n",
    "+ Se debe pedir al usuario el radio del círculo y calcular a partir de él.\n",
    "+ Imprimir ambos resultados.\n",
    "+ Usa la constante **_pi_** definida en la librería math .\n",
    "\n",
    "![Imagen de círculo](./img/img0.png)"
   ]
  },
  {
   "cell_type": "code",
   "execution_count": 11,
   "metadata": {},
   "outputs": [
    {
     "name": "stdout",
     "output_type": "stream",
     "text": [
      "el area es: 706.86\n",
      "el perimetro es es: 94.25\n"
     ]
    }
   ],
   "source": [
    "# Ejercicio\n",
    "import math\n",
    "\n",
    "def calcular_area_y_perimetro(radio):\n",
    "    pi=math.pi\n",
    "    area=pi*(radio**2)\n",
    "    perimetro=2*pi*radio\n",
    "    return (area,perimetro)\n",
    "\n",
    "radio=int(input(\"introduce el radio de un circulo para calcular su area y perimetro:\"))\n",
    "area,perimetro=calcular_area_y_perimetro(radio)\n",
    "\n",
    "print(f\"el area es: {round(area,2)}\")\n",
    "print(f\"el perimetro es es: {round(perimetro,2)}\")\n",
    "\n",
    "\n",
    "\n",
    "# Pide al usuario que introduzca el radio de un círculo y calcula su área y perímetro\n",
    "\n"
   ]
  },
  {
   "cell_type": "code",
   "execution_count": null,
   "metadata": {},
   "outputs": [],
   "source": []
  }
 ],
 "metadata": {
  "kernelspec": {
   "display_name": "entorno_tareas",
   "language": "python",
   "name": "python3"
  },
  "language_info": {
   "codemirror_mode": {
    "name": "ipython",
    "version": 3
   },
   "file_extension": ".py",
   "mimetype": "text/x-python",
   "name": "python",
   "nbconvert_exporter": "python",
   "pygments_lexer": "ipython3",
   "version": "3.13.7"
  }
 },
 "nbformat": 4,
 "nbformat_minor": 4
}
